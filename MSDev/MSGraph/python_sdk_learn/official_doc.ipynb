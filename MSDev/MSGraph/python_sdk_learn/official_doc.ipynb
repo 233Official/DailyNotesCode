{
 "cells": [
  {
   "cell_type": "code",
   "execution_count": 3,
   "metadata": {},
   "outputs": [],
   "source": [
    "import asyncio\n",
    "\n",
    "from azure.identity.aio import ClientSecretCredential\n",
    "\n",
    "credential = ClientSecretCredential(\"tenantID\",\n",
    "                                    \"clientID\",\n",
    "                                    \"clientSecret\")\n",
    "scopes = ['https://graph.microsoft.com/.default']"
   ]
  }
 ],
 "metadata": {
  "kernelspec": {
   "display_name": "py310",
   "language": "python",
   "name": "python3"
  },
  "language_info": {
   "codemirror_mode": {
    "name": "ipython",
    "version": 3
   },
   "file_extension": ".py",
   "mimetype": "text/x-python",
   "name": "python",
   "nbconvert_exporter": "python",
   "pygments_lexer": "ipython3",
   "version": "3.10.11"
  }
 },
 "nbformat": 4,
 "nbformat_minor": 2
}
