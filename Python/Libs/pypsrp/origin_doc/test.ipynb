{
 "cells": [
  {
   "cell_type": "code",
   "execution_count": 1,
   "metadata": {},
   "outputs": [
    {
     "name": "stdout",
     "output_type": "stream",
     "text": [
      "test\n"
     ]
    }
   ],
   "source": [
    "print(\"test\")"
   ]
  },
  {
   "cell_type": "code",
   "execution_count": 2,
   "metadata": {},
   "outputs": [
    {
     "name": "stdout",
     "output_type": "stream",
     "text": [
      "HAD ERRORS: False\n",
      "OUTPUT:\n",
      "\n",
      "ERROR:\n",
      "\n",
      "DEBUG:\n",
      "\n",
      "VERBOSE:\n",
      "\n",
      "HAD ERRORS: False\n",
      "OUTPUT:\n",
      "\n",
      "\n",
      "    目录: C:\\Users\\win10pro\\Documents\n",
      "\n",
      "\n",
      "Mode                 LastWriteTime         Length Name                                                                  \n",
      "----                 -------------         ------ ----                                                                  \n",
      "d-----         11/8/2023  11:55 PM                test                                                                  \n",
      "\n",
      "\n",
      "ERROR:\n",
      "\n",
      "DEBUG:\n",
      "\n",
      "VERBOSE:\n",
      "\n"
     ]
    }
   ],
   "source": [
    "# 通过 PSRP 层运行一些代码的示例\n",
    "from pypsrp.client import Client\n",
    "from config import SERVER, USERNAME, PASSWORD\n",
    "\n",
    "client = Client(\n",
    "    server=SERVER,\n",
    "    username=USERNAME,\n",
    "    password=PASSWORD,\n",
    "    ssl=False,\n",
    ")\n",
    "\n",
    "output, streams, had_errors = client.execute_ps(r\"cd C:/\")\n",
    "\n",
    "print(\"HAD ERRORS: %s\" % had_errors)\n",
    "print(\"OUTPUT:\\n%s\" % output)\n",
    "print(\"ERROR:\\n%s\" % \"\\n\".join([str(s) for s in streams.error]))\n",
    "print(\"DEBUG:\\n%s\" % \"\\n\".join([str(s) for s in streams.debug]))\n",
    "print(\"VERBOSE:\\n%s\" % \"\\n\".join([str(s) for s in streams.verbose]))\n",
    "\n",
    "output, streams, had_errors = client.execute_ps(r\"dir\")\n",
    "print(\"HAD ERRORS: %s\" % had_errors)\n",
    "print(\"OUTPUT:\\n%s\" % output)\n",
    "print(\"ERROR:\\n%s\" % \"\\n\".join([str(s) for s in streams.error]))\n",
    "print(\"DEBUG:\\n%s\" % \"\\n\".join([str(s) for s in streams.debug]))\n",
    "print(\"VERBOSE:\\n%s\" % \"\\n\".join([str(s) for s in streams.verbose]))\n"
   ]
  },
  {
   "cell_type": "markdown",
   "metadata": {},
   "source": [
    "可以看到这样写并具有连贯性, 要两个命令在一个shell中执行的话可以使用分号进行分隔, 例如:"
   ]
  },
  {
   "cell_type": "code",
   "execution_count": 3,
   "metadata": {},
   "outputs": [
    {
     "name": "stdout",
     "output_type": "stream",
     "text": [
      "HAD ERRORS: False\n",
      "OUTPUT:\n",
      "\n",
      "\n",
      "    目录: C:\\\n",
      "\n",
      "\n",
      "Mode                 LastWriteTime         Length Name                                                                  \n",
      "----                 -------------         ------ ----                                                                  \n",
      "d-----         12/7/2019   5:14 PM                PerfLogs                                                              \n",
      "d-r---         11/8/2023  11:27 PM                Program Files                                                         \n",
      "d-r---          4/9/2021   9:53 PM                Program Files (x86)                                                   \n",
      "d-----         11/9/2023  12:02 AM                temp                                                                  \n",
      "d-r---         5/25/2023  11:07 PM                Users                                                                 \n",
      "d-----         11/8/2023  11:57 PM                Windows                                                               \n",
      "-a----         11/8/2023  11:43 PM            208 KMS.log                                                               \n",
      "\n",
      "\n",
      "ERROR:\n",
      "\n",
      "DEBUG:\n",
      "\n",
      "VERBOSE:\n",
      "\n"
     ]
    }
   ],
   "source": [
    "# 通过 PSRP 层运行一些代码的示例\n",
    "from pypsrp.client import Client\n",
    "from config import SERVER, USERNAME, PASSWORD\n",
    "\n",
    "client = Client(\n",
    "    server=SERVER,\n",
    "    username=USERNAME,\n",
    "    password=PASSWORD,\n",
    "    ssl=False,\n",
    ")\n",
    "\n",
    "output, streams, had_errors = client.execute_ps(r\"cd C:/;dir\")\n",
    "\n",
    "print(\"HAD ERRORS: %s\" % had_errors)\n",
    "print(\"OUTPUT:\\n%s\" % output)\n",
    "print(\"ERROR:\\n%s\" % \"\\n\".join([str(s) for s in streams.error]))\n",
    "print(\"DEBUG:\\n%s\" % \"\\n\".join([str(s) for s in streams.debug]))\n",
    "print(\"VERBOSE:\\n%s\" % \"\\n\".join([str(s) for s in streams.verbose]))"
   ]
  },
  {
   "cell_type": "markdown",
   "metadata": {},
   "source": [
    "尝试运行一个会报错的命令:"
   ]
  },
  {
   "cell_type": "code",
   "execution_count": 9,
   "metadata": {},
   "outputs": [
    {
     "name": "stdout",
     "output_type": "stream",
     "text": [
      "HAD ERRORS: False\n",
      "OUTPUT:\n",
      "\n",
      "\n",
      "    目录: C:\\Users\\win10pro\\Documents\n",
      "\n",
      "\n",
      "Mode                 LastWriteTime         Length Name                                                                  \n",
      "----                 -------------         ------ ----                                                                  \n",
      "d-----         11/8/2023  11:55 PM                test                                                                  \n",
      "\n",
      "\n",
      "ERROR:\n",
      "Cannot find drive. A drive with the name 'E' does not exist.\n",
      "DEBUG:\n",
      "\n",
      "VERBOSE:\n",
      "\n"
     ]
    }
   ],
   "source": [
    "# 通过 PSRP 层运行一些代码的示例\n",
    "from pypsrp.client import Client\n",
    "from config import SERVER, USERNAME, PASSWORD\n",
    "\n",
    "client = Client(\n",
    "    server=SERVER,\n",
    "    username=USERNAME,\n",
    "    password=PASSWORD,\n",
    "    ssl=False,\n",
    ")\n",
    "\n",
    "output, streams, had_errors = client.execute_ps(r\"cd E:/;dir\")\n",
    "\n",
    "print(\"HAD ERRORS: %s\" % had_errors)\n",
    "print(\"OUTPUT:\\n%s\" % output)\n",
    "print(\"ERROR:\\n%s\" % \"\\n\".join([str(s) for s in streams.error]))\n",
    "print(\"DEBUG:\\n%s\" % \"\\n\".join([str(s) for s in streams.debug]))\n",
    "print(\"VERBOSE:\\n%s\" % \"\\n\".join([str(s) for s in streams.verbose]))"
   ]
  },
  {
   "cell_type": "markdown",
   "metadata": {},
   "source": [
    "转换成 lower level api 的写法:\n"
   ]
  },
  {
   "cell_type": "code",
   "execution_count": 8,
   "metadata": {},
   "outputs": [
    {
     "name": "stdout",
     "output_type": "stream",
     "text": [
      "HAD ERRORS: False\n",
      "OUTPUT:\n",
      "PerfLogs\n",
      "Program Files\n",
      "Program Files (x86)\n",
      "temp\n",
      "Users\n",
      "Windows\n",
      "KMS.log\n",
      "ERROR:\n",
      "\n",
      "DEBUG:\n",
      "\n",
      "VERBOSE:\n",
      "\n"
     ]
    }
   ],
   "source": [
    "# 将 basic_sample.py 转换为使用低级API的写法示例:\n",
    "from pypsrp.powershell import PowerShell, RunspacePool\n",
    "from pypsrp.wsman import WSMan\n",
    "from config import SERVER, USERNAME, PASSWORD\n",
    "\n",
    "wsman = WSMan(server=SERVER, username=USERNAME, password=PASSWORD, ssl=False)\n",
    "\n",
    "with RunspacePool(wsman) as pool:\n",
    "    ps = PowerShell(pool)\n",
    "    ps.add_script(\"cd C:/;dir\")\n",
    "    output = ps.invoke()\n",
    "\n",
    "print(\"HAD ERRORS: %s\" % ps.had_errors)\n",
    "print(\"OUTPUT:\\n%s\" % \"\\n\".join([str(s) for s in output]))\n",
    "print(\"ERROR:\\n%s\" % \"\\n\".join([str(s) for s in ps.streams.error]))\n",
    "print(\"DEBUG:\\n%s\" % \"\\n\".join([str(s) for s in ps.streams.debug]))\n",
    "print(\"VERBOSE:\\n%s\" % \"\\n\".join([str(s) for s in ps.streams.verbose]))\n"
   ]
  }
 ],
 "metadata": {
  "kernelspec": {
   "display_name": "py310",
   "language": "python",
   "name": "python3"
  },
  "language_info": {
   "codemirror_mode": {
    "name": "ipython",
    "version": 3
   },
   "file_extension": ".py",
   "mimetype": "text/x-python",
   "name": "python",
   "nbconvert_exporter": "python",
   "pygments_lexer": "ipython3",
   "version": "3.10.9"
  }
 },
 "nbformat": 4,
 "nbformat_minor": 2
}
